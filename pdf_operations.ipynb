{
 "cells": [
  {
   "cell_type": "markdown",
   "metadata": {},
   "source": [
    "Merge Pdf"
   ]
  },
  {
   "cell_type": "code",
   "execution_count": null,
   "metadata": {},
   "outputs": [
    {
     "name": "stdout",
     "output_type": "stream",
     "text": [
      "Merged Motivation_upasana_Riedenhaldenstrasse47.pdf and UpasanaSwisscomContract.pdf into upasana_ridehnehaldenstrasse47_merged.pdf\n"
     ]
    }
   ],
   "source": [
    "import os\n",
    "from PyPDF2 import PdfMerger\n",
    "import ipywidgets as widgets\n",
    "from IPython.display import display\n",
    "\n",
    "# Folder containing the PDF files\n",
    "folder_path = \"FoSS\"\n",
    "\n",
    "# Get all PDF files in the folder\n",
    "pdf_files = [f for f in os.listdir(folder_path) if f.endswith(\".pdf\")]\n",
    "\n",
    "# Create a multiple selection widget\n",
    "file_selector = widgets.SelectMultiple(\n",
    "    options=pdf_files,\n",
    "    value=[],\n",
    "    description=\"PDF Files\",\n",
    "    rows=10\n",
    ")\n",
    "\n",
    "# Create an output filename input widget\n",
    "output_name = widgets.Text(\n",
    "    value=\"merged_output.pdf\",\n",
    "    description=\"Output File:\",\n",
    "    placeholder=\"Enter output file name\"\n",
    ")\n",
    "\n",
    "# Create a button to trigger the merge\n",
    "merge_button = widgets.Button(\n",
    "    description=\"Merge PDFs\",\n",
    "    button_style=\"success\"  # Green button\n",
    ")\n",
    "\n",
    "# Display widgets\n",
    "display(file_selector, output_name, merge_button)\n",
    "\n",
    "# Callback function for merging PDFs\n",
    "def merge_pdfs(button):\n",
    "    selected_files = list(file_selector.value)\n",
    "    if not selected_files:\n",
    "        print(\"No files selected!\")\n",
    "        return\n",
    "\n",
    "    # Full paths for selected files\n",
    "    full_paths = [os.path.join(folder_path, f) for f in selected_files]\n",
    "\n",
    "    # Merge PDFs\n",
    "    merger = PdfMerger()\n",
    "    for file_path in full_paths:\n",
    "        merger.append(file_path)\n",
    "\n",
    "    output_path = os.path.join(folder_path, output_name.value)\n",
    "    merger.write(output_path)\n",
    "    merger.close()\n",
    "\n",
    "    print(f\"Merged PDFs into {output_path}\")\n",
    "\n",
    "# Attach the callback function to the button click event\n",
    "merge_button.on_click(merge_pdfs)\n"
   ]
  },
  {
   "cell_type": "markdown",
   "metadata": {},
   "source": [
    "Split PDF"
   ]
  },
  {
   "cell_type": "code",
   "execution_count": null,
   "metadata": {},
   "outputs": [],
   "source": [
    "from PyPDF2 import PdfReader, PdfWriter\n",
    "\n",
    "input_pdf = \"file.pdf\"\n",
    "output_pdf = \"extracted_pages.pdf\"\n",
    "\n",
    "reader = PdfReader(input_pdf)\n",
    "writer = PdfWriter()\n",
    "\n",
    "# Extract specific pages (e.g., pages 2 to 4)\n",
    "for page_num in range(1, 4):  # PyPDF2 is zero-indexed\n",
    "    writer.add_page(reader.pages[page_num])\n",
    "\n",
    "# Write the new PDF\n",
    "with open(output_pdf, \"wb\") as out_file:\n",
    "    writer.write(out_file)\n",
    "\n",
    "print(f\"Extracted pages written to {output_pdf}\")\n"
   ]
  },
  {
   "cell_type": "markdown",
   "metadata": {},
   "source": [
    "Compress PDF"
   ]
  },
  {
   "cell_type": "code",
   "execution_count": 2,
   "metadata": {},
   "outputs": [
    {
     "name": "stdout",
     "output_type": "stream",
     "text": [
      "Original PDF size: 386.45 KB\n",
      "Compressed PDF size: 387.19 KB\n",
      "Compression reduced the size by -0.19%\n"
     ]
    }
   ],
   "source": [
    "import pikepdf\n",
    "import os\n",
    "\n",
    "input_pdf = \"upasana_ridehnehaldenstrasse47_merged.pdf\"\n",
    "output_pdf = f\"compressed_{input_pdf}.pdf\"\n",
    "\n",
    "# Get the size of the original PDF\n",
    "original_size = os.path.getsize(input_pdf)\n",
    "\n",
    "\n",
    "# Open the PDF and remove unused objects\n",
    "with pikepdf.open(input_pdf) as pdf:\n",
    "    # Reduce file size by removing embedded fonts or unused objects\n",
    "    pdf.save(output_pdf, linearize=True)\n",
    "\n",
    "# Get the size of the compressed PDF\n",
    "compressed_size = os.path.getsize(output_pdf)\n",
    "\n",
    "# Print sizes\n",
    "print(f\"Original PDF size: {original_size / 1024:.2f} KB\")\n",
    "print(f\"Compressed PDF size: {compressed_size / 1024:.2f} KB\")\n",
    "print(f\"Compression reduced the size by {((original_size - compressed_size) / original_size) * 100:.2f}%\")"
   ]
  },
  {
   "cell_type": "markdown",
   "metadata": {},
   "source": [
    "Extract Text from PDF"
   ]
  },
  {
   "cell_type": "code",
   "execution_count": null,
   "metadata": {},
   "outputs": [],
   "source": [
    "from PyPDF2 import PdfReader\n",
    "\n",
    "input_pdf = \"file.pdf\"\n",
    "\n",
    "reader = PdfReader(input_pdf)\n",
    "\n",
    "for page_num, page in enumerate(reader.pages):\n",
    "    print(f\"--- Page {page_num + 1} ---\")\n",
    "    print(page.extract_text())\n"
   ]
  },
  {
   "cell_type": "markdown",
   "metadata": {},
   "source": [
    "Add a Watermark to a PDF"
   ]
  },
  {
   "cell_type": "code",
   "execution_count": null,
   "metadata": {},
   "outputs": [],
   "source": [
    "from PyPDF2 import PdfReader, PdfWriter\n",
    "\n",
    "input_pdf = \"file.pdf\"\n",
    "watermark_pdf = \"watermark.pdf\"\n",
    "output_pdf = \"watermarked.pdf\"\n",
    "\n",
    "reader = PdfReader(input_pdf)\n",
    "watermark = PdfReader(watermark_pdf).pages[0]  # Assume the watermark is on the first page\n",
    "\n",
    "writer = PdfWriter()\n",
    "\n",
    "for page in reader.pages:\n",
    "    page.merge_page(watermark)  # Overlay the watermark\n",
    "    writer.add_page(page)\n",
    "\n",
    "with open(output_pdf, \"wb\") as out_file:\n",
    "    writer.write(out_file)\n",
    "\n",
    "print(f\"Watermarked PDF saved as {output_pdf}\")\n"
   ]
  },
  {
   "cell_type": "markdown",
   "metadata": {},
   "source": [
    "Rotate Pages"
   ]
  },
  {
   "cell_type": "code",
   "execution_count": null,
   "metadata": {},
   "outputs": [],
   "source": [
    "from PyPDF2 import PdfReader, PdfWriter\n",
    "\n",
    "input_pdf = \"file.pdf\"\n",
    "output_pdf = \"rotated.pdf\"\n",
    "\n",
    "reader = PdfReader(input_pdf)\n",
    "writer = PdfWriter()\n",
    "\n",
    "# Rotate all pages 90 degrees clockwise\n",
    "for page in reader.pages:\n",
    "    page.rotate(90)  # Options: 90, 180, 270\n",
    "    writer.add_page(page)\n",
    "\n",
    "with open(output_pdf, \"wb\") as out_file:\n",
    "    writer.write(out_file)\n",
    "\n",
    "print(f\"Rotated PDF saved as {output_pdf}\")\n"
   ]
  },
  {
   "cell_type": "markdown",
   "metadata": {},
   "source": [
    "Encrypt/Password-Protect a PDF"
   ]
  },
  {
   "cell_type": "code",
   "execution_count": null,
   "metadata": {},
   "outputs": [],
   "source": [
    "from PyPDF2 import PdfWriter\n",
    "\n",
    "input_pdf = \"file.pdf\"\n",
    "output_pdf = \"encrypted.pdf\"\n",
    "password = \"mypassword\"\n",
    "\n",
    "writer = PdfWriter()\n",
    "writer.append(input_pdf)\n",
    "writer.encrypt(password)\n",
    "\n",
    "with open(output_pdf, \"wb\") as out_file:\n",
    "    writer.write(out_file)\n",
    "\n",
    "print(f\"Encrypted PDF saved as {output_pdf}\")\n"
   ]
  },
  {
   "cell_type": "markdown",
   "metadata": {},
   "source": [
    "Decrypt a Password-Protected PDF"
   ]
  },
  {
   "cell_type": "code",
   "execution_count": null,
   "metadata": {},
   "outputs": [],
   "source": [
    "from PyPDF2 import PdfReader, PdfWriter\n",
    "\n",
    "input_pdf = \"encrypted.pdf\"\n",
    "output_pdf = \"decrypted.pdf\"\n",
    "password = \"mypassword\"\n",
    "\n",
    "reader = PdfReader(input_pdf)\n",
    "reader.decrypt(password)  # Provide the correct password\n",
    "\n",
    "writer = PdfWriter()\n",
    "for page in reader.pages:\n",
    "    writer.add_page(page)\n",
    "\n",
    "with open(output_pdf, \"wb\") as out_file:\n",
    "    writer.write(out_file)\n",
    "\n",
    "print(f\"Decrypted PDF saved as {output_pdf}\")\n"
   ]
  },
  {
   "cell_type": "markdown",
   "metadata": {},
   "source": [
    "Add Metadata to a PDF"
   ]
  },
  {
   "cell_type": "code",
   "execution_count": null,
   "metadata": {},
   "outputs": [],
   "source": [
    "from PyPDF2 import PdfReader, PdfWriter\n",
    "\n",
    "input_pdf = \"file.pdf\"\n",
    "output_pdf = \"metadata_added.pdf\"\n",
    "\n",
    "reader = PdfReader(input_pdf)\n",
    "writer = PdfWriter()\n",
    "\n",
    "writer.append(input_pdf)\n",
    "\n",
    "# Add metadata\n",
    "writer.add_metadata({\n",
    "    \"/Title\": \"My Document Title\",\n",
    "    \"/Author\": \"Author Name\",\n",
    "    \"/Subject\": \"PDF Metadata Example\"\n",
    "})\n",
    "\n",
    "with open(output_pdf, \"wb\") as out_file:\n",
    "    writer.write(out_file)\n",
    "\n",
    "print(f\"PDF with metadata saved as {output_pdf}\")\n"
   ]
  }
 ],
 "metadata": {
  "kernelspec": {
   "display_name": "base",
   "language": "python",
   "name": "python3"
  },
  "language_info": {
   "codemirror_mode": {
    "name": "ipython",
    "version": 3
   },
   "file_extension": ".py",
   "mimetype": "text/x-python",
   "name": "python",
   "nbconvert_exporter": "python",
   "pygments_lexer": "ipython3",
   "version": "3.11.5"
  }
 },
 "nbformat": 4,
 "nbformat_minor": 2
}
